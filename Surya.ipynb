{
  "nbformat": 4,
  "nbformat_minor": 0,
  "metadata": {
    "colab": {
      "name": "Surya.ipynb",
      "provenance": [],
      "collapsed_sections": [],
      "authorship_tag": "ABX9TyO0/EcAFu0hVn5uKXd6k0Dm",
      "include_colab_link": true
    },
    "kernelspec": {
      "name": "python3",
      "display_name": "Python 3"
    },
    "language_info": {
      "name": "python"
    }
  },
  "cells": [
    {
      "cell_type": "markdown",
      "metadata": {
        "id": "view-in-github",
        "colab_type": "text"
      },
      "source": [
        "<a href=\"https://colab.research.google.com/github/Surya-ux70/coding/blob/main/Surya.ipynb\" target=\"_parent\"><img src=\"https://colab.research.google.com/assets/colab-badge.svg\" alt=\"Open In Colab\"/></a>"
      ]
    },
    {
      "cell_type": "code",
      "metadata": {
        "colab": {
          "base_uri": "https://localhost:8080/"
        },
        "id": "a5UTxj3b_eaC",
        "outputId": "ddcc273c-25ba-449a-a4b6-c75b92f7a823"
      },
      "source": [
        "a=input()\n",
        "b=input()\n",
        "c=int(a)+int(b)\n",
        "print(c)\n"
      ],
      "execution_count": null,
      "outputs": [
        {
          "output_type": "stream",
          "text": [
            "5\n",
            "8\n",
            "13\n"
          ],
          "name": "stdout"
        }
      ]
    },
    {
      "cell_type": "code",
      "metadata": {
        "colab": {
          "base_uri": "https://localhost:8080/"
        },
        "id": "TOTw9pSbA2Iu",
        "outputId": "b309e765-4be4-4a4d-dc9e-c467139fd148"
      },
      "source": [
        "p=input()\n",
        "n=input()\n",
        "r=input()\n",
        "i=int(p)*int(n)*int(r)/100\n",
        "print(i)\n"
      ],
      "execution_count": null,
      "outputs": [
        {
          "output_type": "stream",
          "text": [
            "15000\n",
            "24\n",
            "6\n",
            "21600.0\n"
          ],
          "name": "stdout"
        }
      ]
    },
    {
      "cell_type": "code",
      "metadata": {
        "colab": {
          "base_uri": "https://localhost:8080/"
        },
        "id": "fN6QEFV8VNlV",
        "outputId": "55f9dc4f-0a33-4a38-b3fe-0c02d4153d81"
      },
      "source": [
        "import math\n",
        "a=45\n",
        "print(math.sin(a))\n"
      ],
      "execution_count": null,
      "outputs": [
        {
          "output_type": "stream",
          "text": [
            "0.8509035245341184\n"
          ],
          "name": "stdout"
        }
      ]
    },
    {
      "cell_type": "code",
      "metadata": {
        "colab": {
          "base_uri": "https://localhost:8080/"
        },
        "id": "zKE1MXGGGTAs",
        "outputId": "13302f9a-ee2d-479e-f7be-367c55c4b5c1"
      },
      "source": [
        "a=\"Indian Servers\"\n",
        "print(a[5:-1])"
      ],
      "execution_count": null,
      "outputs": [
        {
          "output_type": "stream",
          "text": [
            "n Server\n"
          ],
          "name": "stdout"
        }
      ]
    },
    {
      "cell_type": "code",
      "metadata": {
        "colab": {
          "base_uri": "https://localhost:8080/"
        },
        "id": "rxXldbKFI0tx",
        "outputId": "29a5a0f1-bdf3-4c9f-ad41-1862c8a42eb0"
      },
      "source": [
        "s=\"Indian Servers,India Python\"\n",
        "a=s.upper()\n",
        "print(a)"
      ],
      "execution_count": null,
      "outputs": [
        {
          "output_type": "stream",
          "text": [
            "INDIAN SERVERS,INDIA PYTHON\n"
          ],
          "name": "stdout"
        }
      ]
    },
    {
      "cell_type": "code",
      "metadata": {
        "colab": {
          "base_uri": "https://localhost:8080/"
        },
        "id": "Vgk_EciGKvtD",
        "outputId": "d101d0e4-eeb2-4dcb-f742-b61268bc7e43"
      },
      "source": [
        "s=\"indian servers,india python\"\n",
        "a=s.islower()\n",
        "print(a)"
      ],
      "execution_count": null,
      "outputs": [
        {
          "output_type": "stream",
          "text": [
            "True\n"
          ],
          "name": "stdout"
        }
      ]
    },
    {
      "cell_type": "code",
      "metadata": {
        "colab": {
          "base_uri": "https://localhost:8080/"
        },
        "id": "ZT7F9SGaLsGG",
        "outputId": "304f9880-77c7-4950-b028-aaa6f3b277a1"
      },
      "source": [
        "s=\"indian servers,india python\"\n",
        "a=s.find(\"servers\")\n",
        "print(a)"
      ],
      "execution_count": null,
      "outputs": [
        {
          "output_type": "stream",
          "text": [
            "7\n"
          ],
          "name": "stdout"
        }
      ]
    },
    {
      "cell_type": "code",
      "metadata": {
        "colab": {
          "base_uri": "https://localhost:8080/"
        },
        "id": "krZPydkVL9Tg",
        "outputId": "4c899676-64a7-4784-8d7b-b5a2b1a5e34d"
      },
      "source": [
        "a=28\n",
        "if a>70 :\n",
        "  print(\"greater than 70\")\n",
        "elif a>50 :\n",
        "  print(\"greater than 50\")\n",
        "else:\n",
        "  print(\"Less than 50\")\n",
        "\n"
      ],
      "execution_count": null,
      "outputs": [
        {
          "output_type": "stream",
          "text": [
            "Less than 50\n"
          ],
          "name": "stdout"
        }
      ]
    },
    {
      "cell_type": "code",
      "metadata": {
        "id": "iXY6nt5nfNaX"
      },
      "source": [
        ""
      ],
      "execution_count": null,
      "outputs": []
    },
    {
      "cell_type": "code",
      "metadata": {
        "colab": {
          "base_uri": "https://localhost:8080/"
        },
        "id": "biiamxWFZdVS",
        "outputId": "002018ff-659c-47fc-c1fa-602c0594e557"
      },
      "source": [
        "import math\n",
        "a=60\n",
        "print(math.cos(a))\n"
      ],
      "execution_count": null,
      "outputs": [
        {
          "output_type": "stream",
          "text": [
            "-0.9524129804151563\n"
          ],
          "name": "stdout"
        }
      ]
    },
    {
      "cell_type": "code",
      "metadata": {
        "colab": {
          "base_uri": "https://localhost:8080/"
        },
        "id": "ZKSTWM38aLX7",
        "outputId": "9ebcd464-02bf-439f-9900-598ac23602e1"
      },
      "source": [
        "import math\n",
        "a=15\n",
        "print(math.factorial(a))"
      ],
      "execution_count": null,
      "outputs": [
        {
          "output_type": "stream",
          "text": [
            "1307674368000\n"
          ],
          "name": "stdout"
        }
      ]
    },
    {
      "cell_type": "code",
      "metadata": {
        "colab": {
          "base_uri": "https://localhost:8080/"
        },
        "id": "1rq5AQaIaVye",
        "outputId": "cf28fb30-4d3b-49b5-e783-09d37938d133"
      },
      "source": [
        "import math \n",
        "a=90\n",
        "print(math.tan(a))"
      ],
      "execution_count": null,
      "outputs": [
        {
          "output_type": "stream",
          "text": [
            "-1.995200412208242\n"
          ],
          "name": "stdout"
        }
      ]
    },
    {
      "cell_type": "code",
      "metadata": {
        "colab": {
          "base_uri": "https://localhost:8080/"
        },
        "id": "mT8kqXDkbxGc",
        "outputId": "25a1b459-dc2b-44c7-d017-c2e05800b8a8"
      },
      "source": [
        "import math\n",
        "a=30\n",
        "print(math.cosh(a))"
      ],
      "execution_count": null,
      "outputs": [
        {
          "output_type": "stream",
          "text": [
            "5343237290762.231\n"
          ],
          "name": "stdout"
        }
      ]
    },
    {
      "cell_type": "code",
      "metadata": {
        "colab": {
          "base_uri": "https://localhost:8080/"
        },
        "id": "1_v-TmaecUyq",
        "outputId": "59204d0b-b982-4beb-c790-adbe713bed75"
      },
      "source": [
        "a=\"Surya Pavan\"\n",
        "print(a[0:5])\n"
      ],
      "execution_count": null,
      "outputs": [
        {
          "output_type": "stream",
          "text": [
            "Surya\n"
          ],
          "name": "stdout"
        }
      ]
    },
    {
      "cell_type": "code",
      "metadata": {
        "colab": {
          "base_uri": "https://localhost:8080/"
        },
        "id": "kINRIgric5x6",
        "outputId": "e850eeb2-1513-4bf2-bb88-65bf5648430a"
      },
      "source": [
        "b=\"Virat Kohli\"\n",
        "print(b[6:11])"
      ],
      "execution_count": null,
      "outputs": [
        {
          "output_type": "stream",
          "text": [
            "Kohli\n"
          ],
          "name": "stdout"
        }
      ]
    },
    {
      "cell_type": "code",
      "metadata": {
        "colab": {
          "base_uri": "https://localhost:8080/"
        },
        "id": "syBg1hSkdXoN",
        "outputId": "d744e40f-5bbf-4b94-927b-72f9e8216a10"
      },
      "source": [
        "c=\"python anaconda\"\n",
        "print(c[1:-1])"
      ],
      "execution_count": null,
      "outputs": [
        {
          "output_type": "stream",
          "text": [
            "ython anacond\n"
          ],
          "name": "stdout"
        }
      ]
    },
    {
      "cell_type": "code",
      "metadata": {
        "colab": {
          "base_uri": "https://localhost:8080/"
        },
        "id": "eACoFTIadnGB",
        "outputId": "6e73c990-26ad-4884-99e4-122905b4ca28"
      },
      "source": [
        "d=\"Sundar Pichai\"\n",
        "print(d[3:-3])"
      ],
      "execution_count": null,
      "outputs": [
        {
          "output_type": "stream",
          "text": [
            "dar Pic\n"
          ],
          "name": "stdout"
        }
      ]
    },
    {
      "cell_type": "code",
      "metadata": {
        "colab": {
          "base_uri": "https://localhost:8080/"
        },
        "id": "D1sBAFFxeBYb",
        "outputId": "5e537efe-6197-4c8c-f19d-6654edd05e8e"
      },
      "source": [
        "a=55\n",
        "if a>100 :\n",
        "  print(\"greater than 100\")\n",
        "elif a>50 :\n",
        "  print(\"greater than 50\")\n",
        "else:\n",
        "  print(\"Less than 50\")\n"
      ],
      "execution_count": null,
      "outputs": [
        {
          "output_type": "stream",
          "text": [
            "greater than 50\n"
          ],
          "name": "stdout"
        }
      ]
    },
    {
      "cell_type": "code",
      "metadata": {
        "id": "FP-Cp1Fww9fQ"
      },
      "source": [
        ""
      ],
      "execution_count": null,
      "outputs": []
    },
    {
      "cell_type": "code",
      "metadata": {
        "colab": {
          "base_uri": "https://localhost:8080/"
        },
        "id": "ewzatyCtw_EC",
        "outputId": "6f303c45-52ba-48de-95e7-514b81379ab1"
      },
      "source": [
        "d={0,1,2}\n",
        "for x in d:\n",
        "  print(x)"
      ],
      "execution_count": 3,
      "outputs": [
        {
          "output_type": "stream",
          "text": [
            "0\n",
            "1\n",
            "2\n"
          ],
          "name": "stdout"
        }
      ]
    },
    {
      "cell_type": "code",
      "metadata": {
        "id": "NvAoW8APxMXk"
      },
      "source": [
        "z=\"xyz\"\n",
        "j=\"j\"\n",
        "while j in z:\n",
        "  print(j,end=\"\")"
      ],
      "execution_count": 5,
      "outputs": []
    },
    {
      "cell_type": "code",
      "metadata": {
        "colab": {
          "base_uri": "https://localhost:8080/",
          "height": 131
        },
        "id": "mMFxkNtNxpA7",
        "outputId": "ba4ee4a7-fcf4-4128-d437-d7f1e6853309"
      },
      "source": [
        "a=1:\n",
        "while True:\n",
        "  if a%3 == 0:\n",
        "    break\n",
        "  print(a)\n",
        "  "
      ],
      "execution_count": 11,
      "outputs": [
        {
          "output_type": "error",
          "ename": "SyntaxError",
          "evalue": "ignored",
          "traceback": [
            "\u001b[0;36m  File \u001b[0;32m\"<ipython-input-11-ecfa55da19e7>\"\u001b[0;36m, line \u001b[0;32m1\u001b[0m\n\u001b[0;31m    a=1:\u001b[0m\n\u001b[0m       ^\u001b[0m\n\u001b[0;31mSyntaxError\u001b[0m\u001b[0;31m:\u001b[0m invalid syntax\n"
          ]
        }
      ]
    },
    {
      "cell_type": "code",
      "metadata": {
        "colab": {
          "base_uri": "https://localhost:8080/"
        },
        "id": "DN9ABAJ9x6M5",
        "outputId": "4c0c96f6-6237-4ca0-d858-96ad9c9e9351"
      },
      "source": [
        "for i in range(2):\n",
        "  print(\"Hello\")\n",
        "  a=4\n",
        "  while a<5:\n",
        "    print(\"wsuppp\")\n",
        "    a=a+1"
      ],
      "execution_count": 16,
      "outputs": [
        {
          "output_type": "stream",
          "text": [
            "Hello\n",
            "wsuppp\n",
            "Hello\n",
            "wsuppp\n"
          ],
          "name": "stdout"
        }
      ]
    },
    {
      "cell_type": "code",
      "metadata": {
        "id": "WYVnQ2KIe4uv"
      },
      "source": [
        ""
      ],
      "execution_count": null,
      "outputs": []
    },
    {
      "cell_type": "code",
      "metadata": {
        "colab": {
          "base_uri": "https://localhost:8080/"
        },
        "id": "T0wiQIrefd2l",
        "outputId": "83bfff2e-5cb3-47e3-cbc2-cf6cc6534f82"
      },
      "source": [
        "age=17\n",
        "if age>18:\n",
        "  print(\"old\")\n",
        "elif age>12:\n",
        "  print(\"teenager\")\n",
        "else:\n",
        "  print(\"too young\")"
      ],
      "execution_count": null,
      "outputs": [
        {
          "output_type": "stream",
          "text": [
            "teenager\n"
          ],
          "name": "stdout"
        }
      ]
    },
    {
      "cell_type": "code",
      "metadata": {
        "colab": {
          "base_uri": "https://localhost:8080/"
        },
        "id": "BeoefHmte8O4",
        "outputId": "abf47bd1-8641-446c-d01a-d3cbdab0bfb4"
      },
      "source": [
        "a=0\n",
        "while a<10 :\n",
        "  print(\"Vampire Diaries\")\n",
        "  a=a+1\n",
        "else:\n",
        "  print(\"Peaky Blinders\")"
      ],
      "execution_count": null,
      "outputs": [
        {
          "output_type": "stream",
          "text": [
            "Vampire Diaries\n",
            "Vampire Diaries\n",
            "Vampire Diaries\n",
            "Vampire Diaries\n",
            "Vampire Diaries\n",
            "Vampire Diaries\n",
            "Vampire Diaries\n",
            "Vampire Diaries\n",
            "Vampire Diaries\n",
            "Vampire Diaries\n",
            "Peaky Blinders\n"
          ],
          "name": "stdout"
        }
      ]
    },
    {
      "cell_type": "code",
      "metadata": {
        "colab": {
          "base_uri": "https://localhost:8080/"
        },
        "id": "gERB2b3Ehpwj",
        "outputId": "c4c11240-0250-4fa0-b73f-03600960f997"
      },
      "source": [
        "characters = [\"ned\",\"robert\",\"daenaerys\",\"bolton\"]\n",
        "print(characters)"
      ],
      "execution_count": null,
      "outputs": [
        {
          "output_type": "stream",
          "text": [
            "['ned', 'robert', 'daenaerys', 'bolton']\n"
          ],
          "name": "stdout"
        }
      ]
    }
  ]
}